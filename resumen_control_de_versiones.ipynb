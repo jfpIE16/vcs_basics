{
 "cells": [
  {
   "cell_type": "markdown",
   "metadata": {},
   "source": [
    "# Sistemas de control de versiones\n",
    "Son herramientas utilizadas para llevar el control de los cambios que se realicen en el código fuente de una aplicación, estos sistemas conservan un historial de los cambios realizados a traves del tiempo de todos los ficheros que se le indicaron para tener el control.\n",
    "Los sistemas de control de versiones nos ayudan a responder automaticamente la siguiente información:\n",
    "- ¿Quién creó este archivo?\n",
    "- ¿Quién ha modificado este fichero y cuando?\n",
    "- ¿Quién edito esta línea?\n",
    "- ¿Qué información tenía el archivo **xxxxx.py** el día *24/08/2005*?\n",
    "\n",
    "Algunos sistemas de control de versiones populares son Git, SVN y Mercurial. Para esta investigación nos centraremos en **Git**.\n"
   ]
  },
  {
   "cell_type": "markdown",
   "metadata": {},
   "source": [
    "## Modelo de datos utilizado por Git\n",
    "La principal diferencia entre Git y otros sistemas de control de versiones es su forma de manejar los datos. Normalmente un **VCS** almacena la información como una lista de cambios en cada archivo a través del tiempo. \n",
    "\n",
    "### Copias instantáneas\n",
    "**Git** maneja sus datos como un conjunto de copias instantáneas. Cada que vez que se confirma un cambio, básicamente **Git** toma una *fotografía* del aspecto de todos los archivos que se tengan en ese momento como un sistema de archivos miniatura. Pero sería ineficiente si para cada cambio se almacenara una copia total del proyecto aún cuando no se hayan hecho cambios en todos los ficheres, para hacer esto eficiente **git** no almacena los archivos que no se han modificado sino mas bien un enlace al archivo anterior idéntico que ya tenga almacenado.\n",
    "\n",
    "Una de las principales ventajas de **Git** es que maneja un registro de todos los cambios realizados en una copia local y son pocas las cosas que no se pueden realizar localmente.\n",
    "\n",
    "### Integridad de los datos\n",
    "Todas las acciones realizadas en **Git** son verificadas por una suma de comprobación (checksum) antes de ser almacenado, a partir de ese momento se identifica ese cambio mediante el valor de dicha suma. El algoritmo utilizado por Git para generar el *checksum* se conoce como *SHA-1* y se trata de una cadena de 40 caracteres hexadecimales y se calcula utilizando la información contenida en los archivos.\n",
    "\n",
    "### Almacenar SI, Eliminar NO\n",
    "Cuando se realizan acciones en **Git** por lo general todas estas sólo añaden información a la base de datos. Como en cualquier sistema de control de versiones se puede perder información que no ha sido confirmada. Pero después de almacenar una copia instantánea es muy díficil perder algo de información.\n",
    "\n",
    "### ¿Qué es un repositorio?\n",
    "Es un conjunto de datos que contiene todas las referencias asociadas a cada acción realizada en  **Git** bajo su modelo de datos.\n",
    "\n",
    "## Flujo de Trabajo en Git\n",
    "### Inicializar un repositorio \n",
    "Hay varias formas de realizar esta acción.\n",
    "* Crear un repositorio localmente con el comando\n",
    "> git **init** *repo_name*\n",
    "* Clonar un repositorio existente con el comando\n",
    "> git **clone** *url_remoto/repo_name.git*\n",
    "\n",
    "### Area de preparación\n",
    "Se preparan los archivos de los que se quieren confirmar los cambios, esto se realiza moviendolos hacía el area de preparación (Staged). Primero se verifica el estado en el que nos encontramos utilizando el siguiente comando"
   ]
  },
  {
   "cell_type": "code",
   "execution_count": 6,
   "metadata": {},
   "outputs": [
    {
     "name": "stdout",
     "output_type": "stream",
     "text": [
      "On branch master\n",
      "Your branch is up to date with 'origin/master'.\n",
      "\n",
      "Changes to be committed:\n",
      "  (use \"git reset HEAD <file>...\" to unstage)\n",
      "\n",
      "\tmodified:   resumen_control_de_versiones.ipynb\n",
      "\n"
     ]
    }
   ],
   "source": [
    "!git status"
   ]
  },
  {
   "cell_type": "markdown",
   "metadata": {},
   "source": [
    "El resultado del comando nos dice que archivos tuvieron cambios y aún no estan en el area de preparación. Agregamos los archivos al area de preparación utilizando el siguiente comando:"
   ]
  },
  {
   "cell_type": "code",
   "execution_count": 5,
   "metadata": {},
   "outputs": [
    {
     "name": "stderr",
     "output_type": "stream",
     "text": [
      "warning: LF will be replaced by CRLF in resumen_control_de_versiones.ipynb.\n",
      "The file will have its original line endings in your working directory\n"
     ]
    }
   ],
   "source": [
    "!git add ."
   ]
  },
  {
   "cell_type": "markdown",
   "metadata": {},
   "source": [
    "### Confirmación\n",
    "Se confirman los cambios y se crea una copia instantánea de todo el repositorio. Se agrega un mensaje que puede incluir los cambios que se realizaron."
   ]
  },
  {
   "cell_type": "code",
   "execution_count": null,
   "metadata": {},
   "outputs": [],
   "source": [
    "!git commit -m \"Modificaciones al cuaderno interactivo, se agregan ejemplos de uso de comandos en git\""
   ]
  },
  {
   "cell_type": "markdown",
   "metadata": {},
   "source": [
    "### Modificando "
   ]
  }
 ],
 "metadata": {
  "kernelspec": {
   "display_name": "Python 3",
   "language": "python",
   "name": "python3"
  },
  "language_info": {
   "codemirror_mode": {
    "name": "ipython",
    "version": 3
   },
   "file_extension": ".py",
   "mimetype": "text/x-python",
   "name": "python",
   "nbconvert_exporter": "python",
   "pygments_lexer": "ipython3",
   "version": "3.6.5"
  }
 },
 "nbformat": 4,
 "nbformat_minor": 2
}
