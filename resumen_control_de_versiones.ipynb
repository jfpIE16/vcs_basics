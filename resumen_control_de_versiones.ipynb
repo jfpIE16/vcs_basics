{
 "cells": [
  {
   "cell_type": "markdown",
   "metadata": {},
   "source": [
    "# Sistemas de control de versiones\n",
    "Son herramientas utilizadas para llevar el control de los cambios que se realicen en el código fuente de una aplicación, estos sistemas conservan un historial de los cambios realizados a traves del tiempo de todos los ficheros que se le indicaron para tener el control.\n",
    "Los sistemas de control de versiones nos ayudan a responder automaticamente la siguiente información:\n",
    "- ¿Quién creó este archivo?\n",
    "- ¿Quién ha modificado este fichero y cuando?\n",
    "- ¿Quién edito esta línea?\n",
    "- ¿Qué información tenía el archivo **xxxxx.py** el día *24/08/2005*?\n",
    "\n",
    "Algunos sistemas de control de versiones populares son Git, SVN y Mercurial. Para esta investigación nos centraremos en **Git**.\n"
   ]
  },
  {
   "cell_type": "markdown",
   "metadata": {},
   "source": [
    "## Modelo de datos utilizado por Git\n",
    "La principal diferencia entre Git y otros sistemas de control de versiones es su forma de manejar los datos. Normalmente un **VCS** almacena la información como una lista de cambios en cada archivo a través del tiempo. \n",
    "\n",
    "### Copias instantáneas\n",
    "**Git** maneja sus datos como un conjunto de copias instantáneas. Cada que vez que se confirma un cambio, básicamente **Git** toma una *fotografía* del aspecto de todos los archivos que se tengan en ese momento como un sistema de archivos miniatura. Pero sería ineficiente si para cada cambio se almacenara una copia total del proyecto aún cuando no se hayan hecho cambios en todos los ficheres, para hacer esto eficiente **git** no almacena los archivos que no se han modificado sino mas bien un enlace al archivo anterior idéntico que ya tenga almacenado."
   ]
  }
 ],
 "metadata": {
  "kernelspec": {
   "display_name": "Python 3",
   "language": "python",
   "name": "python3"
  },
  "language_info": {
   "codemirror_mode": {
    "name": "ipython",
    "version": 3
   },
   "file_extension": ".py",
   "mimetype": "text/x-python",
   "name": "python",
   "nbconvert_exporter": "python",
   "pygments_lexer": "ipython3",
   "version": "3.6.9"
  }
 },
 "nbformat": 4,
 "nbformat_minor": 2
}
